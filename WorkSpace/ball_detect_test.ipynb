{
 "cells": [
  {
   "cell_type": "code",
   "execution_count": 65,
   "metadata": {},
   "outputs": [
    {
     "name": "stdout",
     "output_type": "stream",
     "text": [
      "(3024, 4032, 3)\n"
     ]
    }
   ],
   "source": [
    "import cv2\n",
    "import numpy as np\n",
    "\n",
    "# Load the image\n",
    "image = cv2.imread(\"ball.jpg\")\n",
    "print(image.shape)\n",
    "# Resize the image\n",
    "image = cv2.resize(image, (1200, 800))"
   ]
  },
  {
   "cell_type": "code",
   "execution_count": 66,
   "metadata": {},
   "outputs": [],
   "source": [
    "# マスク処理を行う関数\n",
    "def getMask(image, color):\n",
    "    # Convert the image to the HSV color space\n",
    "    hsv = cv2.cvtColor(image, cv2.COLOR_BGR2HSV)\n",
    "    if color == \"red\":\n",
    "        lower = np.array([0, 100, 100])\n",
    "        upper = np.array([10, 255, 255])\n",
    "    elif color == \"blue\":\n",
    "        lower = np.array([100, 150, 0])\n",
    "        upper = np.array([150, 255, 255])\n",
    "    else:\n",
    "        print(\"Invalid color\")\n",
    "        return None\n",
    "    mask = cv2.inRange(hsv, lower, upper)\n",
    "    return mask\n",
    "\n",
    "# 円を検出する関数\n",
    "def getCircle(mask):\n",
    "    circles = cv2.HoughCircles(mask, cv2.HOUGH_GRADIENT, dp=1, minDist=50, param1=100, param2=25, minRadius=20, maxRadius=500)\n",
    "    if circles is not None:\n",
    "        circles = np.uint16(np.around(circles)) # 四捨五入\n",
    "        for i in circles[0, :]:\n",
    "            cv2.circle(image, (i[0], i[1]), i[2], (0, 255, 0), 2) # 円を描画\n",
    "            cv2.circle(image, (i[0], i[1]), 2, (0, 0, 255), 3)\n",
    "        return image\n",
    "    else:\n",
    "        return image\n",
    "\n",
    "mask = getMask(image, \"blue\")\n",
    "cv2.imshow(\"blue_mask\", mask)\n",
    "\n",
    "contours_frame = getCircle(mask)\n",
    "cv2.imshow(\"contours_frame\", contours_frame)\n",
    "# escキーが押されるまで画像を表示する\n",
    "k = cv2.waitKey(0)\n",
    "if k == 27:\n",
    "    cv2.destroyAllWindows()"
   ]
  }
 ],
 "metadata": {
  "kernelspec": {
   "display_name": "base",
   "language": "python",
   "name": "python3"
  },
  "language_info": {
   "codemirror_mode": {
    "name": "ipython",
    "version": 3
   },
   "file_extension": ".py",
   "mimetype": "text/x-python",
   "name": "python",
   "nbconvert_exporter": "python",
   "pygments_lexer": "ipython3",
   "version": "3.10.9"
  }
 },
 "nbformat": 4,
 "nbformat_minor": 2
}
