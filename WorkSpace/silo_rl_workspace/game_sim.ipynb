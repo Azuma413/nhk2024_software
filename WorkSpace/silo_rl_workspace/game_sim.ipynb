{
 "cells": [
  {
   "cell_type": "markdown",
   "metadata": {},
   "source": [
    "サイロ×5\n",
    "\n",
    "1つのサイロに3つまでボールが入る。\n",
    "\n",
    "サイロに3つ目のボールを入れた時点でそのサイロに自分のチームの色のボールが2つ以上入っている場合フラグがたつ。\n",
    "\n",
    "フラグを3つ集めると強制勝利。"
   ]
  },
  {
   "cell_type": "code",
   "execution_count": 2,
   "metadata": {},
   "outputs": [],
   "source": [
    "import numpy as np\n",
    "import matplotlib.pyplot as plt\n",
    "RED = 1\n",
    "BLUE = 2"
   ]
  },
  {
   "cell_type": "code",
   "execution_count": 3,
   "metadata": {},
   "outputs": [
    {
     "name": "stdout",
     "output_type": "stream",
     "text": [
      "[[1. 1. 2.]\n",
      " [2. 0. 0.]\n",
      " [0. 0. 0.]\n",
      " [0. 0. 0.]\n",
      " [0. 0. 0.]]\n",
      "0\n"
     ]
    },
    {
     "data": {
      "image/png": "[encoded data removed]",
      "text/plain": [
       "<Figure size 640x480 with 1 Axes>"
      ]
     },
     "metadata": {},
     "output_type": "display_data"
    }
   ],
   "source": [
    "silo = np.zeros((5,3))\n",
    "def put_ball(color, silo_num):\n",
    "    for i in range(3):\n",
    "        if silo[silo_num][i] != 0:\n",
    "            continue\n",
    "        else:\n",
    "            silo[silo_num][i] = color\n",
    "            return True # ボールを置けた場合\n",
    "    return False # ボールを置けなかった場合    \n",
    "\n",
    "def check_winner():\n",
    "    red_count = 0\n",
    "    blue_count = 0\n",
    "    for i in range(5):\n",
    "        num = silo[i][0]*silo[i][1]*silo[i][2]\n",
    "        if num % 4 == 0 and num != 0:\n",
    "            blue_count += 1\n",
    "        elif num != 0:\n",
    "            red_count += 1\n",
    "    if red_count >= 3:\n",
    "        return RED\n",
    "    elif blue_count >= 3:\n",
    "        return BLUE\n",
    "    else:\n",
    "        return 0 # まだ勝敗がついていない場合\n",
    "    \n",
    "put_ball(RED, 0)\n",
    "put_ball(BLUE, 1)\n",
    "put_ball(RED, 0)\n",
    "put_ball(BLUE, 0)\n",
    "print(silo)\n",
    "print(check_winner())\n",
    "\n",
    "image = None\n",
    "fig, ax = plt.subplots()\n",
    "# サイロの描画\n",
    "for i in range(5):\n",
    "    for j in range(3):\n",
    "        if silo[i][j] == RED:\n",
    "            ax.plot(i + 0.5, j + 0.5, 'ro', markersize=50)\n",
    "        elif silo[i][j] == BLUE:\n",
    "            ax.plot(i + 0.5, j + 0.5, 'bo', markersize=50)\n",
    "        else:\n",
    "            ax.plot(i + 0.5, j + 0.5, 'wo', markersize=50)\n",
    "# 表示範囲を設定\n",
    "ax.set_xlim(0, 6)\n",
    "ax.set_ylim(0, 3)\n",
    "# 軸のスケールを揃える\n",
    "ax.set_aspect('equal')\n",
    "# 縦線を引く\n",
    "for i in range(1, 6):\n",
    "    ax.plot([i, i], [0, 3], 'k-')\n",
    "fig.canvas.draw()\n",
    "image = fig.canvas.tostring_rgb()\n",
    "plt.show()\n",
    "\n",
    "image = np.frombuffer(image, dtype=np.uint8)\n",
    "image = image.reshape(fig.canvas.get_width_height()[::-1] + (3,))"
   ]
  },
  {
   "cell_type": "code",
   "execution_count": 5,
   "metadata": {},
   "outputs": [
    {
     "name": "stdout",
     "output_type": "stream",
     "text": [
      "0\n"
     ]
    }
   ],
   "source": [
    "test = np.random.choice(1)\n",
    "print(test)"
   ]
  }
 ],
 "metadata": {
  "kernelspec": {
   "display_name": "Python 3",
   "language": "python",
   "name": "python3"
  },
  "language_info": {
   "codemirror_mode": {
    "name": "ipython",
    "version": 3
   },
   "file_extension": ".py",
   "mimetype": "text/x-python",
   "name": "python",
   "nbconvert_exporter": "python",
   "pygments_lexer": "ipython3",
   "version": "3.10.12"
  }
 },
 "nbformat": 4,
 "nbformat_minor": 2
}
